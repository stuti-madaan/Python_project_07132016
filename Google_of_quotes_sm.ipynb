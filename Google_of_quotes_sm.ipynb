{
 "cells": [
  {
   "cell_type": "code",
   "execution_count": 4,
   "metadata": {
    "collapsed": false
   },
   "outputs": [
    {
     "data": {
      "text/plain": [
       "'It is necessary for the welfare of society that genius should be privileged to utter sedition, to blaspheme, to outrage good taste, to corrupt the youthful mind, and generally to scandalize one`s uncles. - George Bernard Shaw'"
      ]
     },
     "execution_count": 4,
     "metadata": {},
     "output_type": "execute_result"
    }
   ],
   "source": [
    "## (a) Build a list of full quotes ##\n",
    "\n",
    "all_lines=[]\n",
    "new_list=[]\n",
    "with open(\"quotes.txt\",'r') as quotes: # Read the file\n",
    "    for line in quotes:\n",
    "        all_lines.append(line)  # create a list of all lines from the file\n",
    "\n",
    "    for i in range(0,len(all_lines),2):  \n",
    "        new_list.append(all_lines[i].strip()+\" - \"+all_lines[i+1].strip()) # create a list of 'quotes- author' by contaenating two consecutive strings\n",
    "\n",
    "new_list[7] #check new list"
   ]
  },
  {
   "cell_type": "code",
   "execution_count": 5,
   "metadata": {
    "collapsed": false
   },
   "outputs": [
    {
     "name": "stdout",
     "output_type": "stream",
     "text": [
      "['two', 'roads', 'diverged', 'in', 'a', 'wood', 'and', 'i', 'i', 'took', 'the', 'one', 'less', 'traveled', 'by', 'and', 'that', 'has', 'made', 'all', 'the', 'difference']\n"
     ]
    }
   ],
   "source": [
    "## (b) Words from full quotes ##\n",
    "\n",
    "import re   # import regular expression library\n",
    "def words_in_quote(quote):\n",
    "    '''Return a list of words in a quote'''\n",
    "    l=[]\n",
    "    for i in re.split('\\W',quote.lower()):  # identifies alphanumeric, digits and underscores and displays blank for the rest \n",
    "        if i!=\"\":\n",
    "            l.append(i)\n",
    "    return l\n",
    "\n",
    "#check\n",
    "print words_in_quote(all_lines[2])"
   ]
  },
  {
   "cell_type": "code",
   "execution_count": 6,
   "metadata": {
    "collapsed": false
   },
   "outputs": [
    {
     "data": {
      "text/plain": [
       "{'feeling': 1,\n",
       " 'friedrich': 1,\n",
       " 'growing': 1,\n",
       " 'happiness': 1,\n",
       " 'is': 3,\n",
       " 'nietzsche': 1,\n",
       " 'overcome': 1,\n",
       " 'power': 1,\n",
       " 'resistance': 1,\n",
       " 'that': 2,\n",
       " 'the': 1,\n",
       " 'what': 1}"
      ]
     },
     "execution_count": 6,
     "metadata": {},
     "output_type": "execute_result"
    }
   ],
   "source": [
    " ## (c) Build the postings-list dictionary ##\n",
    "    \n",
    "Posting_List={}  #Blank dictionary\n",
    "for line in new_list:\n",
    "    if line not in Posting_List.keys(): # for each line in the new list created\n",
    "        Posting_List[line]  = {}   # Declare the values as dictionaries\n",
    "        for word in words_in_quote(line) :  # Use previous function to make vector of words\n",
    "            if word in Posting_List[line].keys(): # check for word being present in the list \n",
    "                Posting_List[line][word] +=1\n",
    "            else:\n",
    "                Posting_List[line][word] =1\n",
    "\n",
    "Posting_List[new_list[2]] #check"
   ]
  },
  {
   "cell_type": "code",
   "execution_count": 7,
   "metadata": {
    "collapsed": false
   },
   "outputs": [
    {
     "data": {
      "text/plain": [
       "{'.I had to face the horrible truth: The antitobacco people are lying. Smoking really is cool. And I`m less cool for not doing it. - Tucker Carlson': 1,\n",
       " 'By the time we`ve made it, we`ve had it. - Malcolm Forbes': 1,\n",
       " 'Cooking was invented in prehistoric times, when a primitive tribe had a lucky accident. The tribe had killed an animal and was going to eat it raw, when a tribe member named Woog tripped and dropped it into the fire. At first the other tribe members were angry at Woog, but then, as the aroma of burning meat filled the air, they had an idea. So they ate Woog raw. - Dave Barry': 3,\n",
       " 'I almost had a pyschic girlfriend, but she left me before we met. - Steven Wright': 1,\n",
       " 'I cried because I had no shoes, `till I met a man who had no feet. So I said, `You got any shoes you`re not using`? - Steven Wright': 2,\n",
       " 'I had a dream the other night. I dreamed that Jimmy Carter came to me and asked why I wanted his job. I told him I didn`t want his job. I want to be President. - Ronald Reagan': 1,\n",
       " 'I`ve had a wonderful time, but this wasn`t it. - Groucho Marx': 1,\n",
       " 'If God had wanted us to spend our time fretting about the problems of home ownership, He would never have invented beer. - Dave Barry': 1,\n",
       " 'Karate is a form of marital arts in which people who have had years and years of training can, using only their hands and feet, make some of the worst movies in the history of the world. - Dave Barry': 1,\n",
       " 'Man [has] always assumed that he was more intelligent than dolphins because he had achieved so much-the wheel, New York, wars and so on-while all the dolphins had ever done was muck about in the water having a good time. But conversely, the dolphins had always believed that they were far more intelligent than man-for precisely the same reason. - Douglas Adams': 3,\n",
       " 'Never continue in a job you don`t enjoy. If you`re happy in what you`re doing, you`ll like yourself, you`ll have inner peace. And if you have that, along with physical health, you will have had more success than you could possibly have imagined. - Johnny Carson': 1,\n",
       " 'Nothing before had ever made me thoroughly realise, though I had read various scientific books, that science consists in grouping facts so that general laws or conclusions may be drawn from them. - Charles Darwin': 2,\n",
       " 'When I took office, only high energy physicists had ever heard of what is called the Worldwide Web....now even my cat has its own page. - Bill Clinton': 1,\n",
       " 'When nothing seems to help, I go and look at a stonecutter hammering away at his rock perhaps a hundred times without as much as a crack showing in it. Yet at the hundred and first blow it will split in two, and I know it was not that blow that did it, but all that had gone before. - Jacob August Riis': 1,\n",
       " 'You know what the fellow said: In Italy for thirty years under the Borgias they had warfare, terror, murder, and bloodshed, but they produced Michaelangelo, Leonardo Da Vinci, and the Renaissance. In Switzerland, they had brotherly love--they had five hundred years of democracy and peace, and what did they produce? The cuckoo clock. - Orson Welles': 3}"
      ]
     },
     "execution_count": 7,
     "metadata": {},
     "output_type": "execute_result"
    }
   ],
   "source": [
    " ## (d) Build the postings-list dictionary ##\n",
    "\n",
    "# create a list of all unique words #\n",
    "list_of_words =[]\n",
    "for j in range(len(new_list)):\n",
    "    for i in words_in_quote(new_list[j]):\n",
    "        if i not in list_of_words:\n",
    "            list_of_words.append(i)\n",
    "\n",
    "# built a function to create a dictionary\n",
    "RPL={}\n",
    "for word in list_of_words:\n",
    "    if word not in RPL.keys():   #create an entry for each word\n",
    "        RPL[word]  = {}\n",
    "    for i in range(len(new_list)):  #go through every quote and check for the word and count the number of words\n",
    "        for k in words_in_quote(new_list[i]):\n",
    "            if k==word:\n",
    "                if new_list[i] in RPL[word].keys():\n",
    "                    RPL[word][new_list[i]] +=1\n",
    "                else:\n",
    "                    RPL[word][new_list[i]] =1\n",
    "\n",
    "# check\n",
    "RPL['had']"
   ]
  },
  {
   "cell_type": "code",
   "execution_count": 8,
   "metadata": {
    "collapsed": false
   },
   "outputs": [
    {
     "data": {
      "text/plain": [
       "3.3933584753025405"
      ]
     },
     "execution_count": 8,
     "metadata": {},
     "output_type": "execute_result"
    }
   ],
   "source": [
    "## (e) TF-IDF Function ##\n",
    "import math\n",
    "    \n",
    "def TF_IDF(w,q):\n",
    "    '''Calculate TF-IDF = TF*IDF Values of a word w with respect to a quote q'''\n",
    "    w=w.lower()\n",
    "    \"\"\" TF \"\"\"\n",
    "    TF = float(RPL[w][q])/max(Posting_List[q].values()) \n",
    "    \n",
    "    \"\"\" IDF \"\"\"\n",
    "    count=0 \n",
    "    for i in Posting_List.keys():\n",
    "        if w in Posting_List[i].keys():\n",
    "            count +=1 \n",
    "    \n",
    "    IDF = math.log(len(new_list)/count )\n",
    "    return TF*IDF\n",
    "\n",
    "#check\n",
    "TF_IDF('entertainer','An actor is at most a poet and at least an entertainer. - Marlon Brando')\n",
    "    "
   ]
  },
  {
   "cell_type": "code",
   "execution_count": 20,
   "metadata": {
    "collapsed": false
   },
   "outputs": [
    {
     "name": "stdout",
     "output_type": "stream",
     "text": [
      "'entertaine' is not in the dictionary.\n",
      "{}\n"
     ]
    }
   ],
   "source": [
    "## (f) Quote search using a single word (5 points) ##\n",
    "def quote_search_one_word(w):\n",
    "    '''Search the quotes containing a word w and print TF-IDF'''\n",
    "    d={}\n",
    "    w=w.lower()\n",
    "    if w not in RPL:\n",
    "        print \"'\"+w+\"'\",\"is not in the dictionary.\"\n",
    "    else:\n",
    "        for i in RPL[w].keys():\n",
    "            d[i]=TF_IDF(w,i)\n",
    "    return d\n",
    "\n",
    "#check\n",
    "print quote_search_one_word('entertaine')"
   ]
  },
  {
   "cell_type": "code",
   "execution_count": 16,
   "metadata": {
    "collapsed": false
   },
   "outputs": [
    {
     "name": "stdout",
     "output_type": "stream",
     "text": [
      "{'The thought of being president frightens me. I do not think I want the job. - Ronald Reagan': 3.3933584753025405, 'The puritanism of Christianity has played havoc with the moderation that an enlightened and tolerant critical spirit would have produced. I`ve noticed that in whatever country, county, town, or other region there is a regulation enjoining temperance, the population seems to be entirely composed of teetotallers and drunkards. There`s a Bible on that shelf there. But I keep it next to Voltaire - poison and antidote. - Bertrand Russell': 2.2622389835350267, 'An actor is at most a poet and at least an entertainer. - Marlon Brando': 3.3933584753025405}\n"
     ]
    }
   ],
   "source": [
    "## (g) Quote search using multiple words ##\n",
    "\n",
    "def quote_search_multiple_words(l):\n",
    "    d={}\n",
    "    e={}\n",
    "    for word in l:\n",
    "        k = quote_search_one_word(word) \n",
    "        # k= returns a dict of quotes and TF_IDF of the word for quote    \n",
    "        for j in k:\n",
    "            if j in d.keys():\n",
    "                d[j] = d[j]+ k[j]\n",
    "            else:\n",
    "                d[j] = k[j]\n",
    "    return d\n",
    "\n",
    "\n",
    "\n",
    "print quote_search_multiple_words(['entertainer','puritanism','frightens'])"
   ]
  }
 ],
 "metadata": {
  "anaconda-cloud": {},
  "kernelspec": {
   "display_name": "Python [Root]",
   "language": "python",
   "name": "Python [Root]"
  },
  "language_info": {
   "codemirror_mode": {
    "name": "ipython",
    "version": 2
   },
   "file_extension": ".py",
   "mimetype": "text/x-python",
   "name": "python",
   "nbconvert_exporter": "python",
   "pygments_lexer": "ipython2",
   "version": "2.7.12"
  }
 },
 "nbformat": 4,
 "nbformat_minor": 0
}
