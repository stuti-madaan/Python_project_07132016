{
 "cells": [
  {
   "cell_type": "markdown",
   "metadata": {},
   "source": [
    "# Rock, Paper, Scissors Game"
   ]
  },
  {
   "cell_type": "markdown",
   "metadata": {},
   "source": [
    "## Assignment\n",
    "\n",
    "This is a popular game, and you must create a computer player.\n",
    "\n",
    "**Game setup.** Each game round consists two turns, the first by the computer and the second by a human. The computer continues playing rounds until the human chooses to quit.\n",
    "\n",
    "- The computer chooses one of Rock, Paper, and Scissors, but keeps its choice secret.\n",
    "- The computer asks for the human’s input.\n",
    "- The human chooses one of Rock, Paper, and Scissors, or Quit.\n",
    "- Unless the human quits, the computer figures out the result of the game, as follows:\n",
    "  \n",
    "  -Rock smashes Scissors, so Rock beats Scissors.  \n",
    "  -Scissors can cut up paper, so Scissors beat Paper.  \n",
    "  -Paper covers Rock, so Paper beats Rock.  \n",
    "  -If both players chose the same, it is a draw. The computer reports the result of this round.  \n",
    "  \n",
    "  \n",
    "- If the human chooses to quit, the computer reports:\n",
    "  \n",
    "  -the number of games played, and  \n",
    "  -the number of times the human won.  \n",
    "\n",
    "\n",
    "**Computer’s brains.** We will give the computer some smarts. It must be able to exploit any human biases. For example, if the human seems to prefer Rock, the computer should play Paper (which beats Rock). Hence, **your program should remember how many Rock, Paper, or Scissors were played by the human.** Note that we don’t need to remember the order in which the human chooses these; the total counts so far for each choice will be enough.\n",
    "\n",
    "**Gotchas.**\n",
    "• User input: How you want to receive the user’s input is up to you, but you must check the user’s input to make sure it is valid (you can assume that the user input is of the correct type). If it isn’t, request the user for input again."
   ]
  },
  {
   "cell_type": "markdown",
   "metadata": {},
   "source": [
    "## Approach\n",
    "\n",
    "### General Outline\n",
    "The approach for this game was done similarily to the calculator build-out done in class in that there are two functions that work together to request a user input and another function that plays the game. The function *request_user_input* lists out the possible inputs and calls upon *get_user_input* to take in and process the input. The function *play_game* takes in the user's input, generates a random selection of rock, paper, or scissors from the computer, and compares the two together in order to determine a \"win\", \"loss\", or \"draw\" for the human user. Additionally, the function *play_game* keeps track of the number of user wins and rounds played. \n",
    "\n",
    "### Checking for Erroneous User Inputs\n",
    "In order to eliminate the possibilities of incorrect or erroneous inputs by the user, a number system was utilized, assigning each possible option to a integer value (1 = rock, 2 = paper, and 3 = scissors). The *get_user_input* function evaluates whether or not the user's input can be converted to an integer value. If so, the integer value is passed on to the game. If not, the user is prompted to enter a new value, and this cycle will continue until an integer value is submitted. Once an integer value is passed through, the *play_game* function then establishes if the integer is valid (i.e. a number 1 through 4). If not, the user is once again directed to input a new value, and this new value will again be reviewed for integer properties and validity.  \n",
    "\n",
    "### Creating a Smart Computer\n",
    "The more times a user chooses a different value (rock, paper, or scissors) the computer makes note of that item along with the item needed to \"beat\" that particular user input (for example, if the user entered rock the computer should make note that paper would win in that scenario).  \n",
    "\n",
    "In order to create a \"smart\" computer that would be able to win more frequently against the human user, an inital list (titled options) was created with values 1, 2, and 3 corresponding to rock, paper, and scissors. In the first round of the game, the computer randomly selects one of the three values to play against the user. Once the user has input a value, the computer then appends the options list with the value (1, 2, or 3) that would have won against that user input. For example, if the user input 3 for scissors, the computer would add the value 1 for rock (since rock beats scissors) to the options list. For the second round, the computer will choose randomly from a list of 4 with some weight given to the item that would beat the user's previous input. Following the example above, the list would contain (1, 2, 3, 1). The logic behind this method is that if the user is randomly inputting values to play against the computer, the list the computer chooses from will remain random. However, if the user shows preference to a particular item, the computer will also show preference to the counter-item. The computer will continue adding to the options list until the user quits the game. The options list resets each time the user quits the game. \n",
    "\n",
    "### Playing the Game\n",
    "Using the methodology described above, the function *play_game* was created. The function randomly generates the computer's input, accepts the user input, then evaluates those inputs to determine a win, loss, or draw. The function runs from a series of embedded \"if-loops\" in order to evaluate the game inputs. Based on the computer and human user's choices, messages are printed out regarding the outcome for the user. If the user wins, a tally is added to the user's win count, and the round count is incremented by 1. The repeats requesting user inputs and evaluating the outcome until the user chooses to quit the game. Once the user quits, the number of wins and rounds is displayed. "
   ]
  },
  {
   "cell_type": "code",
   "execution_count": 2,
   "metadata": {
    "collapsed": false
   },
   "outputs": [],
   "source": [
    "def get_user_input(prompt):\n",
    "    ##prompt the user for a number and return the integer value of that input\n",
    "    while True:\n",
    "        x = raw_input(prompt)\n",
    "        try:\n",
    "            return int(x)\n",
    "        except ValueError:\n",
    "            print \"Invalid choice\"\n",
    "            print"
   ]
  },
  {
   "cell_type": "code",
   "execution_count": 3,
   "metadata": {
    "collapsed": true
   },
   "outputs": [],
   "source": [
    "def request_user_input():\n",
    "    ##print what options the user can play and ask the user to choose by directing the user to the get_user_input function\n",
    "    print\n",
    "    print \"Let's play rock, paper, scissors!\"\n",
    "    print \"Enter '1' for rock\"\n",
    "    print \"Enter '2' for paper\"\n",
    "    print \"Enter '3' for scissors\"\n",
    "    print \"Enter '4' if you would like to Quit\"\n",
    "    print\n",
    "    return get_user_input(\"Make your choice: \")\n",
    "    \n"
   ]
  },
  {
   "cell_type": "code",
   "execution_count": 4,
   "metadata": {
    "collapsed": false
   },
   "outputs": [],
   "source": [
    "def play_game():\n",
    "    #use the user's input along with the computer's random selection to play a game of rock, paper, scissors\n",
    "    import random\n",
    "\n",
    "    round_count = 0    #initialize the number of rounds\n",
    "    user_win_count = 0 #initialize the number of times the user has won\n",
    "    options = [1, 2, 3]\n",
    "    \n",
    "    computer_select = random.choice(options)\n",
    "    \n",
    "    choice = request_user_input()\n",
    "    \n",
    "    while choice != 4: ##choice 4 was to quit the game\n",
    "        \n",
    "        ##process this choice\n",
    "        if int(choice) == 1:\n",
    "            options.append(2)\n",
    "            round_count += 1\n",
    "            if computer_select == 1:\n",
    "                print \"That's a draw!\"\n",
    "            elif computer_select == 2:\n",
    "                print \"You lose! Paper beats rock!\"\n",
    "            else:\n",
    "                user_win_count += 1\n",
    "                print \"You win! Rock beats scissors!\"\n",
    "        elif choice == 2:\n",
    "            options.append(3)\n",
    "            round_count += 1\n",
    "            if computer_select == 1:\n",
    "                user_win_count += 1\n",
    "                print \"You win! Paper beats rock!\"\n",
    "            elif computer_select == 2:\n",
    "                print \"That's a draw!\"\n",
    "            else:\n",
    "                print \"You lose! Scissors beats paper!\"\n",
    "        elif choice == 3:\n",
    "            options.append(1)\n",
    "            round_count += 1\n",
    "            if computer_select == 1:\n",
    "                print \"You lose! Rock beats scissors!\"\n",
    "            elif computer_select == 2:\n",
    "                user_win_count += 1\n",
    "                print \"You win! Scissors beats paper!\"\n",
    "            else:\n",
    "                print \"That's a draw!\"\n",
    "        else:\n",
    "            print \"Invalid choice\", choice\n",
    "            print \"Please choose again\"\n",
    "        \n",
    "        #get a new choice\n",
    "        choice = request_user_input()\n",
    "        computer_select = random.choice(options)\n",
    "    \n",
    "    print \"Thanks for playing!\"\n",
    "    print \"You won\", user_win_count, \"time(s) throughout\", round_count, \"round(s)\"\n",
    "    #print options (used to double check that the code was running correctly)"
   ]
  },
  {
   "cell_type": "code",
   "execution_count": 5,
   "metadata": {
    "collapsed": false
   },
   "outputs": [
    {
     "name": "stdout",
     "output_type": "stream",
     "text": [
      "\n",
      "Let's play rock, paper, scissors!\n",
      "Enter '1' for rock\n",
      "Enter '2' for paper\n",
      "Enter '3' for scissors\n",
      "Enter '4' if you would like to Quit\n",
      "\n",
      "Make your choice: 1\n",
      "You win! Rock beats scissors!\n",
      "\n",
      "Let's play rock, paper, scissors!\n",
      "Enter '1' for rock\n",
      "Enter '2' for paper\n",
      "Enter '3' for scissors\n",
      "Enter '4' if you would like to Quit\n",
      "\n",
      "Make your choice: 2\n",
      "That's a draw!\n",
      "\n",
      "Let's play rock, paper, scissors!\n",
      "Enter '1' for rock\n",
      "Enter '2' for paper\n",
      "Enter '3' for scissors\n",
      "Enter '4' if you would like to Quit\n",
      "\n",
      "Make your choice: 3\n",
      "That's a draw!\n",
      "\n",
      "Let's play rock, paper, scissors!\n",
      "Enter '1' for rock\n",
      "Enter '2' for paper\n",
      "Enter '3' for scissors\n",
      "Enter '4' if you would like to Quit\n",
      "\n",
      "Make your choice: 1\n",
      "You win! Rock beats scissors!\n",
      "\n",
      "Let's play rock, paper, scissors!\n",
      "Enter '1' for rock\n",
      "Enter '2' for paper\n",
      "Enter '3' for scissors\n",
      "Enter '4' if you would like to Quit\n",
      "\n",
      "Make your choice: 4\n",
      "Thanks for playing!\n",
      "You won 2 time(s) throughout 4 round(s)\n"
     ]
    }
   ],
   "source": [
    "play_game()"
   ]
  },
  {
   "cell_type": "code",
   "execution_count": null,
   "metadata": {
    "collapsed": true
   },
   "outputs": [],
   "source": []
  }
 ],
 "metadata": {
  "kernelspec": {
   "display_name": "Python 2",
   "language": "python",
   "name": "python2"
  },
  "language_info": {
   "codemirror_mode": {
    "name": "ipython",
    "version": 2
   },
   "file_extension": ".py",
   "mimetype": "text/x-python",
   "name": "python",
   "nbconvert_exporter": "python",
   "pygments_lexer": "ipython2",
   "version": "2.7.11"
  }
 },
 "nbformat": 4,
 "nbformat_minor": 0
}
